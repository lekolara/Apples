{
 "cells": [
  {
   "cell_type": "code",
   "execution_count": null,
   "id": "e800d07c-8d26-4d16-99ac-5b1f0f6b5015",
   "metadata": {},
   "outputs": [],
   "source": [
    "import xarray as xr\n",
    "import numpy as np\n",
    "import matplotlib.pyplot as plt\n",
    "import scipy.stats as sc"
   ]
  },
  {
   "cell_type": "markdown",
   "id": "691dea96-fd15-4a76-b1ff-0af4ccc12090",
   "metadata": {},
   "source": [
    "### **Merge ERA5 files:**"
   ]
  },
  {
   "cell_type": "code",
   "execution_count": null,
   "id": "245c3581-5d66-4f2b-a4e4-4aef079683e2",
   "metadata": {},
   "outputs": [],
   "source": [
    "#use dask in xarray to merge\n",
    "ds = xr.open_mfdataset('C://Users//frida//OneDrive//Dokument//Klimatdatatillampningar//Project//ERA5_2//*.nc')\n",
    "#save it\n",
    "ds.to_netcdf('C://Users//frida//OneDrive//Dokument//Klimatdatatillampningar//Project//ERA5_2//ERA5.hourly.1981-2021.nc')\n",
    "#open data\n",
    "era5 = xr.open_dataset('C://Users//frida//OneDrive//Dokument//Klimatdatatillampningar//Project//ERA5_2//ERA5.hourly.1981-2021.nc')"
   ]
  },
  {
   "cell_type": "markdown",
   "id": "b622eba1-8844-4277-bc6d-2795f6dc573b",
   "metadata": {},
   "source": [
    "### **Merge HAMMOZ model files:**"
   ]
  },
  {
   "cell_type": "code",
   "execution_count": null,
   "id": "46086200-54bf-4843-8db1-81c53d81dda0",
   "metadata": {},
   "outputs": [],
   "source": [
    "ds2 = xr.open_mfdataset('C://Users//frida//OneDrive//Dokument//Klimatdatatillampningar//Project//Hammoz_historical//*.nc')\n",
    "ds2.to_netcdf('C://Users//frida//OneDrive//Dokument//Klimatdatatillampningar//Project//Hammoz_historical//ham_hist.nc')\n",
    "ds3 = xr.open_mfdataset('C://Users//frida//OneDrive//Dokument//Klimatdatatillampningar//Project//Hammoz_ssp//*.nc')\n",
    "ds3.to_netcdf('C://Users//frida//OneDrive//Dokument//Klimatdatatillampningar//Project//Hammoz_ssp//ham_ssp.nc')"
   ]
  },
  {
   "cell_type": "markdown",
   "id": "57a4d8e3-2b8d-4651-8b19-00129be180a8",
   "metadata": {},
   "source": [
    "### **Interpolate ERA5 and HAMMOZ files:**"
   ]
  },
  {
   "cell_type": "code",
   "execution_count": null,
   "id": "c5bdb174-7ba4-4ed4-aa0b-9606cddc7779",
   "metadata": {},
   "outputs": [],
   "source": [
    "#interpolate era5 and save it\n",
    "era5_int = era5.t2m.interp(latitude=56, longitude=14)\n",
    "era5_int.to_netcdf('C://Users//frida//OneDrive//Dokument//Klimatdatatillampningar//Project//ERA5_2//ERA5.1981-2014_int.nc')\n",
    "#interpolate HAMMOZ historical and save it\n",
    "ham_hist_int = ham_hist.tas.interp(lat=56, lon=14)\n",
    "ham_hist_int.to_netcdf('C://Users//frida//OneDrive//Dokument//Klimatdatatillampningar//Project//Hammoz_historical//ham_hist_interpo.nc')\n",
    "#interpolate HAMMOZ ssp and save it\n",
    "ham_ssp_int = ham_ssp.tas.interp(lat=56, lon=14)\n",
    "ham_ssp_int.to_netcdf('C://Users//frida//OneDrive//Dokument//Klimatdatatillampningar//Project//Hammoz_ssp//ham_ssp_interpo.nc')\n",
    "\n",
    "#open datasets\n",
    "eraint = xr.open_dataset('C://Users//frida//OneDrive//Dokument//Klimatdatatillampningar//Project//ERA5_2//ERA5.1981-2014_int.nc')\n",
    "model = xr.open_dataset('C://Users//frida//OneDrive//Dokument//Klimatdatatillampningar//Project//Hammoz_historical//ham_hist_interpo.nc')"
   ]
  },
  {
   "cell_type": "markdown",
   "id": "4dd38a3c-7f6c-49e4-90d3-ad426e8ca2f5",
   "metadata": {},
   "source": [
    "### **Comparison between 4- and 7 month periods (ERA5 data), Chilling Hours Model:**"
   ]
  },
  {
   "cell_type": "code",
   "execution_count": null,
   "id": "54c389bd-4046-4db5-9000-7d0aecac9a6c",
   "metadata": {},
   "outputs": [],
   "source": [
    "#select years\n",
    "#choosing the winter months\n",
    "#converting from kelvin\n",
    "time_slice = slice('1981-01-01T00:00:00.000000000','2014-12-31T23:30:00.000000000')\n",
    "erasel = eraint.sel(time=time_slice)\n",
    "era4month = erasel.t2m.sel(time=erasel.time.dt.month.isin([1, 2, 3, 12])) - 273.15\n",
    "era7month = erasel.t2m.sel(time=erasel.time.dt.month.isin([1, 2, 3, 4, 10, 11, 12])) - 273.15\n",
    "\n",
    "#Chilling Hours Model calculation, 4 month period:\n",
    "temp=era4month\n",
    "chill_hours = xr.where((temp>= 0) & (temp <= 7.2), 1 , np.nan)\n",
    "chill_hours_year = chill_hours.groupby('time.year').sum(dim='time')\n",
    "\n",
    "#Chilling Hours Model calculation, 7 month period:\n",
    "temp=era7month\n",
    "chill_hours = xr.where((temp>= 0) & (temp <= 7.2), 1 , np.nan)\n",
    "chill_hours_year2 = chill_hours.groupby('time.year').sum(dim='time')\n",
    "\n",
    "#plot them together\n",
    "fig, ax = plt.subplots(figsize=(12, 7))\n",
    "chill_hours_year.plot(ax = ax, x='year',color = 'cornflowerblue', label='ERA5 reanalysis data, 4 months')\n",
    "chill_hours_year2.plot(ax = ax, x='year', color = 'midnightblue', label='ERA5 reanalysis data, 7 months')\n",
    "plt.title(\"Winter chill hours - yearly count\")\n",
    "ax.set_ylabel('Hours')\n",
    "ax.set_xlabel('Year')\n",
    "ax.legend(loc='upper right')\n",
    "plt.show()"
   ]
  },
  {
   "cell_type": "markdown",
   "id": "98f2193b-b974-4731-9efd-76c4140f747e",
   "metadata": {},
   "source": [
    "### **Comparison between 4- and 7 month periods (ERA5 data), Utah Model:**"
   ]
  },
  {
   "cell_type": "code",
   "execution_count": null,
   "id": "bc196dd8-b151-4ebe-a5c0-0228abcebe74",
   "metadata": {},
   "outputs": [],
   "source": [
    "#Utah Model calculation, 4 month period:\n",
    "#conditions\n",
    "temp=era4month\n",
    "temp1=xr.where((temp>= 1.5) & (temp <= 2.4), 0.5 , np.nan)\n",
    "temp2=xr.where((temp>= 2.5) & (temp <= 9.1), 1, np.nan)\n",
    "temp3=xr.where((temp>= 9.2) & (temp <= 12.4), 0.5 , np.nan)\n",
    "temp4=xr.where((temp>= 16) & (temp <= 18), (-0.5) , np.nan)\n",
    "temp5=xr.where((temp>= 18), -1 , np.nan) \n",
    "\n",
    "yearsum1 = temp1.groupby('time.year').sum(dim='time')\n",
    "yearsum2 = temp2.groupby('time.year').sum(dim='time')\n",
    "yearsum3 = temp3.groupby('time.year').sum(dim='time')\n",
    "yearsum4 = temp4.groupby('time.year').sum(dim='time')\n",
    "yearsum5 = temp5.groupby('time.year').sum(dim='time')\n",
    "\n",
    "yearsum = yearsum1 + yearsum2 + yearsum3 + yearsum4 + yearsum5\n",
    "\n",
    "#Utah Model calculation, 7 month period:\n",
    "#conditions\n",
    "temp=era7month\n",
    "temp1=xr.where((temp>= 1.5) & (temp <= 2.4), 0.5 , np.nan)\n",
    "temp2=xr.where((temp>= 2.5) & (temp <= 9.1), 1, np.nan)\n",
    "temp3=xr.where((temp>= 9.2) & (temp <= 12.4), 0.5 , np.nan)\n",
    "temp4=xr.where((temp>= 16) & (temp <= 18), (-0.5) , np.nan)\n",
    "temp5=xr.where((temp>= 18), -1 , np.nan)\n",
    "\n",
    "yearsum1 = temp1.groupby('time.year').sum(dim='time')\n",
    "yearsum2 = temp2.groupby('time.year').sum(dim='time')\n",
    "yearsum3 = temp3.groupby('time.year').sum(dim='time')\n",
    "yearsum4 = temp4.groupby('time.year').sum(dim='time')\n",
    "yearsum5 = temp5.groupby('time.year').sum(dim='time')\n",
    "\n",
    "yearsum2 = yearsum1 + yearsum2 + yearsum3 + yearsum4 + yearsum5\n",
    "\n",
    "#plot them together\n",
    "fig, ax = plt.subplots(figsize=(12, 7))\n",
    "yearsum.plot(ax = ax, x='year',color = 'cornflowerblue', label='ERA5 reanalysis data, 4 months')\n",
    "yearsum2.plot(ax = ax, x='year', color = 'midnightblue', label='ERA5 reanalysis data, 7 months')\n",
    "plt.title(\"Utah chill hour units - yearly count\")\n",
    "ax.set_ylabel('Units')\n",
    "ax.set_xlabel('Year')\n",
    "ax.legend(loc='upper right')\n",
    "plt.show()"
   ]
  },
  {
   "cell_type": "markdown",
   "id": "66dec5a8-8695-4609-9817-146fe7312113",
   "metadata": {},
   "source": [
    "### **Calculating mean from ERA5 data as a baseline for chilling requirements:**"
   ]
  },
  {
   "cell_type": "code",
   "execution_count": null,
   "id": "c6c9dee3-85ef-4def-bcb4-5e74948ef08c",
   "metadata": {},
   "outputs": [],
   "source": [
    "print('mean for chill units 4 months:', yearsum.mean())\n",
    "print('mean for chill units 7 months:', yearsum2.mean())\n",
    "print('mean for chill hours 4 months:', chill_hours_year.mean())\n",
    "print('mean for chill hours 7 months:', chill_hours_year2.mean())"
   ]
  },
  {
   "cell_type": "markdown",
   "id": "d765c865-bdab-48b7-8027-7b8b7492f88b",
   "metadata": {},
   "source": [
    "### **Plotting ERA5 data and mean:**"
   ]
  },
  {
   "cell_type": "code",
   "execution_count": null,
   "id": "1ea504a6-d858-437d-91fa-5119b35274dc",
   "metadata": {},
   "outputs": [],
   "source": [
    "#Chilling Hours Model\n",
    "fig, ax = plt.subplots(figsize=(12, 7))\n",
    "chill_hours_year2.plot(x='year', color = 'midnightblue', label='ERA5 reanalysis data')\n",
    "plt.title(\"Winter chill hours - yearly count\")\n",
    "ax.set_ylabel('Hours')\n",
    "ax.set_xlabel('Year')\n",
    "ax.axhline(y=chill_hours_year2.mean('year'), color='peachpuff', label='Mean = 2683', linewidth=3)\n",
    "ax.legend(loc='upper right')\n",
    "plt.show()\n",
    "\n",
    "#Utah Model\n",
    "fig, ax = plt.subplots(figsize=(12, 7))\n",
    "yearsum2.plot(x='year', color = 'midnightblue', label='ERA5 reanalysis data')\n",
    "plt.title(\"Winter chill units - yearly count\")\n",
    "ax.set_ylabel('Units')\n",
    "ax.set_xlabel('Year')\n",
    "ax.axhline(y=yearsum2.mean('year'), color='peachpuff', label='Mean = 2563', linewidth=3)\n",
    "ax.legend(loc='upper right')\n",
    "plt.show()"
   ]
  },
  {
   "cell_type": "markdown",
   "id": "79839b25-5ce4-4103-9aad-aea85f1080a4",
   "metadata": {},
   "source": [
    "### **Bias calculation:**"
   ]
  },
  {
   "cell_type": "code",
   "execution_count": null,
   "id": "6d8a3fbd-a92a-48ce-865f-56409a5e5120",
   "metadata": {},
   "outputs": [],
   "source": [
    "#select years\n",
    "time_slice = slice('1981-01-01T00:00:00.000000000','2014-12-31T23:30:00.000000000')\n",
    "modelsel = model.sel(time=time_slice)\n",
    "erasel = eraint.sel(time=time_slice)\n",
    "\n",
    "#dropping everything except time\n",
    "#choosing the winter months\n",
    "#converting from kelvin\n",
    "model_ham = modelsel.tas.drop_vars(['lat', 'lon','height']).sel(time=modelsel.time.dt.month.isin([1, 2, 3, 4, 10, 11, 12])) - 273.15\n",
    "era = erasel.t2m.drop_vars(['latitude', 'longitude']).sel(time=erasel.time.dt.month.isin([1, 2, 3, 4, 10, 11, 12])) - 273.15\n",
    "\n",
    "model_monthly = model_ham.groupby('time.month').mean(dim='time', skipna=True)\n",
    "era_monthly = era.groupby('time.month').mean(dim='time', skipna=True)\n",
    "\n",
    "#monthly bias plot\n",
    "bias_monthly = era_monthly-model_monthly\n",
    "plt.figure(figsize=(8, 4))\n",
    "bias_monthly.plot()\n",
    "plt.ylabel('Bias(°C)')\n",
    "plt.title('')"
   ]
  },
  {
   "cell_type": "code",
   "execution_count": null,
   "id": "9a614838-ff08-4c3b-bc07-1b10fa3958c1",
   "metadata": {},
   "outputs": [],
   "source": [
    "#save it\n",
    "bias_monthly.to_netcdf('C://Users//frida//Documents//Dokument//Klimatdatatillampningar//Project//bias_monthly.nc')"
   ]
  },
  {
   "cell_type": "markdown",
   "id": "b1df0d3b-745b-4d19-af7a-3960ced0f235",
   "metadata": {},
   "source": [
    "### **Bias correction:**"
   ]
  },
  {
   "cell_type": "code",
   "execution_count": null,
   "id": "fcc64279-84c4-4239-976a-59d9a76383ce",
   "metadata": {},
   "outputs": [],
   "source": [
    "bias_set = xr.open_dataset('C://Users//frida//Documents//Dokument//Klimatdatatillampningar//Project//bias_monthly.nc')\n",
    "bias = bias_set.__xarray_dataarray_variable__.values\n",
    "\n",
    "model_ham_grouped = model_ham.groupby(model_ham.time.dt.month)\n",
    "months = [1, 2, 3, 4, 10, 11, 12]\n",
    "bias_index = 0\n",
    "for month in months:\n",
    "    model_ham_without_bias = model_ham_grouped.apply(lambda x: x - bias[bias_index])\n",
    "    bias_index = bias_index + 1"
   ]
  },
  {
   "cell_type": "markdown",
   "id": "4119e6e5-e927-41c9-bcd5-b59abbba60ed",
   "metadata": {},
   "source": [
    "### **Calculating apple chill models for historical HAMMOZ model:**"
   ]
  },
  {
   "cell_type": "code",
   "execution_count": null,
   "id": "51d22b3c-86f0-4f66-a329-db34e653dbc9",
   "metadata": {},
   "outputs": [],
   "source": [
    "temp=model_ham_without_bias\n",
    "\n",
    "#Chilling Hours Model\n",
    "chill_hours = xr.where((temp>= 0) & (temp <= 7.2), 1 , np.nan)\n",
    "chill_hours_year = chill_hours.groupby('time.year').sum(dim='time')\n",
    "\n",
    "#Utah Model\n",
    "temp1=xr.where((temp>= 1.5) & (temp <= 2.4), 0.5 , np.nan)\n",
    "temp2=xr.where((temp>= 2.5) & (temp <= 9.1), 1, np.nan)\n",
    "temp3=xr.where((temp>= 9.2) & (temp <= 12.4), 0.5 , np.nan)\n",
    "temp4=xr.where((temp>= 12.5) & (temp <= 15.9), 0 , np.nan)\n",
    "temp5=xr.where((temp>= 16) & (temp <= 18), (-0.5) , np.nan)\n",
    "temp6=xr.where((temp>= 18), -1 , np.nan)\n",
    "hours = temp1 + temp2 + temp3 + temp4 + temp5 + temp6\n",
    "\n",
    "yearsum1 = temp1.groupby('time.year').sum(dim='time')\n",
    "yearsum2 = temp2.groupby('time.year').sum(dim='time')\n",
    "yearsum3 = temp3.groupby('time.year').sum(dim='time')\n",
    "yearsum4 = temp4.groupby('time.year').sum(dim='time')\n",
    "yearsum5 = temp5.groupby('time.year').sum(dim='time')\n",
    "yearsum6 = temp6.groupby('time.year').sum(dim='time')\n",
    "\n",
    "yearsum3 = yearsum1 + yearsum2 + yearsum3 + yearsum4 + yearsum5 + yearsum6"
   ]
  },
  {
   "cell_type": "markdown",
   "id": "7a2d3a8d-268e-4cf9-b0c4-1631f48ae881",
   "metadata": {},
   "source": [
    "### **Calculating apple chill models for HAMMOZ ssp model:**"
   ]
  },
  {
   "cell_type": "code",
   "execution_count": null,
   "id": "89276b4b-b1ba-44b9-a41c-18736355a2e6",
   "metadata": {},
   "outputs": [],
   "source": [
    "model_ssp = xr.open_dataset('C://Users//frida//OneDrive//Dokument//Klimatdatatillampningar//Project//Hammoz_ssp//ham_ssp_interpo.nc')\n",
    "model_ham_ssp = model_ssp.tas.drop_vars(['lat', 'lon','height']).sel(time=model_ssp.time.dt.month.isin([1, 2, 3, 4, 10, 11, 12])) - 273.15\n",
    "\n",
    "#bias correction of ssp model\n",
    "model_ham_grouped_ssp = model_ham_ssp.groupby(model_ham_ssp.time.dt.month)\n",
    "months = [1, 2, 3, 4, 10, 11, 12]\n",
    "bias_index = 0\n",
    "for month in months:\n",
    "    model_ham_without_bias_ssp = model_ham_grouped_ssp.apply(lambda x: x - bias[bias_index])\n",
    "    bias_index = bias_index + 1\n",
    "\n",
    "\n",
    "temp=model_ham_without_bias_ssp\n",
    "\n",
    "#Chilling Hours Model\n",
    "chill_hours = xr.where((temp>= 0) & (temp <= 7.2), 1 , np.nan)\n",
    "chill_hours_year_ssp = chill_hours.groupby('time.year').sum(dim='time')\n",
    "\n",
    "#Utah Model\n",
    "temp=model_ham_without_bias_ssp\n",
    "temp1=xr.where((temp>= 1.5) & (temp <= 2.4), 0.5 , np.nan)\n",
    "temp2=xr.where((temp>= 2.5) & (temp <= 9.1), 1, np.nan)\n",
    "temp3=xr.where((temp>= 9.2) & (temp <= 12.4), 0.5 , np.nan)\n",
    "temp4=xr.where((temp>= 12.5) & (temp <= 15.9), 0 , np.nan)\n",
    "temp5=xr.where((temp>= 16) & (temp <= 18), (-0.5) , np.nan)\n",
    "temp6=xr.where((temp>= 18), -1 , np.nan)\n",
    "hours = temp1 + temp2 + temp3 + temp4 + temp5 + temp6\n",
    "\n",
    "yearsum1 = temp1.groupby('time.year').sum(dim='time')\n",
    "yearsum2 = temp2.groupby('time.year').sum(dim='time')\n",
    "yearsum3 = temp3.groupby('time.year').sum(dim='time')\n",
    "yearsum4 = temp4.groupby('time.year').sum(dim='time')\n",
    "yearsum5 = temp5.groupby('time.year').sum(dim='time')\n",
    "yearsum6 = temp6.groupby('time.year').sum(dim='time')\n",
    "\n",
    "yearsum_ssp = yearsum1 + yearsum2 + yearsum3 + yearsum4 + yearsum5 + yearsum6"
   ]
  },
  {
   "cell_type": "markdown",
   "id": "d0cf5cf1-15f1-4907-98c2-d0ce893f56fa",
   "metadata": {},
   "source": [
    "### **Plotting everything together:**"
   ]
  },
  {
   "cell_type": "code",
   "execution_count": null,
   "id": "b187486c-7ae8-4936-951e-4e3e3c4ce7b8",
   "metadata": {},
   "outputs": [],
   "source": [
    "#deviding the future into two periods:\n",
    "time_slice1 = slice('2015-01-01T00:00:00.000000000','2035-12-31T23:30:00.000000000')\n",
    "time_slice2 = slice('2035-01-01T00:00:00.000000000','2055-12-31T23:30:00.000000000')\n",
    "yearsum_ssp1  = yearsum_ssp.sel(year=time_slice1).mean('year')\n",
    "yearsum_ssp2  = yearsum_ssp.sel(year=time_slice2).mean('year')\n",
    "chill_hours_year_ssp1  = chill_hours_year_ssp.sel(year=time_slice1).mean('year')\n",
    "chill_hours_year_ssp2  = chill_hours_year_ssp.sel(year=time_slice2).mean('year')\n",
    "\n",
    "#Chilling Hours Model\n",
    "fig, ax = plt.subplots(figsize=(12, 7))\n",
    "chill_hours_year.plot(ax = ax, x='year',color = 'cornflowerblue', label='Historical model')\n",
    "chill_hours_year_ssp.plot(ax = ax, x='year', color = 'midnightblue', label='SSP585 model')\n",
    "plt.title(\"Winter chill hours - yearly count for the MPI-ESM1.2-HAM model\")\n",
    "ax.set_ylabel('Hours')\n",
    "ax.set_xlabel('Years')\n",
    "ax.axhline(y=chill_hours_year.mean('year'), color='lightsteelblue', label='Historical mean = 2799', xmin=0, xmax=0.46)\n",
    "ax.axhline(chill_hours_year_ssp1, color='black', label='SSP585 mean 2015-2035 = 2657', xmin=0.46, xmax=0.72)\n",
    "ax.axhline(chill_hours_year_ssp2, color='black', label='SSP585 mean 2035-2055 = 2342', xmin=0.72, xmax=1)\n",
    "ax.axhline(2683, color='peachpuff', label='ERA5 historical mean = 2683', linewidth=3)\n",
    "ax.legend(loc='upper right')\n",
    "plt.show()\n",
    "\n",
    "#Utah Model\n",
    "fig, ax = plt.subplots(figsize=(12, 7))\n",
    "yearsum.plot(ax = ax, x='year',color = 'cornflowerblue', label='Historical model')\n",
    "yearsum_ssp.plot(ax = ax, x='year', color = 'midnightblue', label='SSP585 model')\n",
    "plt.title(\"Utah chill hour units - yearly count for the MPI-ESM1.2-HAM model\")\n",
    "ax.set_ylabel('Units')\n",
    "ax.set_xlabel('Years')\n",
    "ax.axhline(y=yearsum.mean('year'), color='lightsteelblue', label='Historical mean = 2891', xmin=0, xmax=0.46)\n",
    "ax.axhline(yearsum_ssp1, color='black', label='SSP585 mean 2015-2035 = 3098', xmin=0.46, xmax=0.72)\n",
    "ax.axhline(yearsum_ssp2, color='black', label='SSP585 mean 2035-2055 =3173', xmin=0.72, xmax=1)\n",
    "ax.axhline(2563, color='peachpuff', label='ERA5 historical mean chill hours = 2563', linewidth=3)\n",
    "ax.legend(loc='upper right')\n",
    "plt.show()"
   ]
  },
  {
   "cell_type": "markdown",
   "id": "1f370c68-41b1-4953-8a4d-57200cbb8945",
   "metadata": {},
   "source": [
    "### **Monthly correlation between ERA5 data and bias corrected historical HAMMOZ model:**"
   ]
  },
  {
   "cell_type": "code",
   "execution_count": null,
   "id": "5d943c79-6d3b-4d15-a0a7-48fd6b6b30b7",
   "metadata": {},
   "outputs": [],
   "source": [
    "#the opened datasets are interpolated\n",
    "correra = xr.open_dataset('C://Users//frida//OneDrive//Dokument//Klimatdatatillampningar//Project//ERA5_2//ERA5.1981-2014_int.nc')\n",
    "corrmodel = xr.open_dataset('C://Users//frida//OneDrive//Dokument//Klimatdatatillampningar//Project//Hammoz_historical//ham_hist_interpo.nc')\n",
    "time_slice = slice('1981-01-01T00:00:00.000000000','2014-12-31T23:30:00.000000000')\n",
    "model_sel_years = corrmodel.sel(time=time_slice)\n",
    "model_sel_months = model_sel_years.tas.sel(time=model_sel_years.time.dt.month.isin([1, 2, 3, 4, 10, 11, 12]))\n",
    "era_sel_years = correra.sel(time=time_slice)\n",
    "era_sel_months = era_sel_years.t2m.sel(time=era_sel_years.time.dt.month.isin([1, 2, 3, 4, 10, 11, 12]))\n",
    "\n",
    "#mean of every month selected\n",
    "era_monthly_mean = era_sel_months.groupby('time.month').mean(dim='time')\n",
    "model_monthly_mean = model_sel_months.groupby('time.month').mean(dim='time')\n",
    "\n",
    "#the correlation\n",
    "r = sc.pearsonr(era_monthly_mean, model_monthly_mean)\n",
    "r"
   ]
  }
 ],
 "metadata": {
  "kernelspec": {
   "display_name": "Python 3 (ipykernel)",
   "language": "python",
   "name": "python3"
  },
  "language_info": {
   "codemirror_mode": {
    "name": "ipython",
    "version": 3
   },
   "file_extension": ".py",
   "mimetype": "text/x-python",
   "name": "python",
   "nbconvert_exporter": "python",
   "pygments_lexer": "ipython3",
   "version": "3.9.18"
  }
 },
 "nbformat": 4,
 "nbformat_minor": 5
}
