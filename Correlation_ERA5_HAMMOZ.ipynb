{
 "cells": [
  {
   "cell_type": "code",
   "execution_count": 1,
   "id": "28ee166d-c430-4d59-90d3-53e0f5fea357",
   "metadata": {},
   "outputs": [],
   "source": [
    "#Monthly correlation of ERA5 and HAMMOZ historical simulation data\n",
    "#The opened datasets are interpolated\n",
    "import xarray as xr\n",
    "import scipy.stats as sc\n",
    "correra = xr.open_dataset('C://Users//frida//OneDrive//Dokument//Klimatdatatillampningar//Project//ERA5.1981-2014_2.nc')\n",
    "corrmodel = xr.open_dataset('ham_hist_interpol.nc')\n",
    "time_slice = slice('1981-01-01T00:00:00.000000000','2014-12-31T23:30:00.000000000')\n",
    "model_sel_years = corrmodel.sel(time=time_slice)\n",
    "model_sel_months = model_sel_years.tas.sel(time=model_sel_years.time.dt.month.isin([1, 2, 3, 4, 10, 11, 12]))\n",
    "era_sel_years = correra.sel(time=time_slice)\n",
    "era_sel_months = era_sel_years.t2m.sel(time=era_sel_years.time.dt.month.isin([1, 2, 3, 4, 10, 11, 12]))"
   ]
  },
  {
   "cell_type": "code",
   "execution_count": 2,
   "id": "c7bc66cd-b804-422c-bd6b-b9292ee3c360",
   "metadata": {},
   "outputs": [],
   "source": [
    "#Mean of every month selected\n",
    "era_monthly_mean = era_sel_months.groupby('time.month').mean(dim='time')\n",
    "model_monthly_mean = model_sel_months.groupby('time.month').mean(dim='time')"
   ]
  },
  {
   "cell_type": "code",
   "execution_count": 3,
   "id": "c0edc182-8ae9-4d0f-b91f-2b77a44727cd",
   "metadata": {},
   "outputs": [
    {
     "data": {
      "text/plain": [
       "PearsonRResult(statistic=0.9665362842529875, pvalue=0.00038641935594218825)"
      ]
     },
     "execution_count": 3,
     "metadata": {},
     "output_type": "execute_result"
    }
   ],
   "source": [
    "#The correlation\n",
    "r = sc.pearsonr(era_monthly_mean, model_monthly_mean)\n",
    "r"
   ]
  },
  {
   "cell_type": "code",
   "execution_count": null,
   "id": "e87cc7a5-b1ae-447a-9fa6-3bed61cfc064",
   "metadata": {},
   "outputs": [],
   "source": []
  }
 ],
 "metadata": {
  "kernelspec": {
   "display_name": "Python 3 (ipykernel)",
   "language": "python",
   "name": "python3"
  },
  "language_info": {
   "codemirror_mode": {
    "name": "ipython",
    "version": 3
   },
   "file_extension": ".py",
   "mimetype": "text/x-python",
   "name": "python",
   "nbconvert_exporter": "python",
   "pygments_lexer": "ipython3",
   "version": "3.9.18"
  }
 },
 "nbformat": 4,
 "nbformat_minor": 5
}
