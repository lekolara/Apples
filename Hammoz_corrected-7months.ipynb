{
 "cells": [
  {
   "cell_type": "code",
   "execution_count": 126,
   "id": "6754ed95-b6dc-4d67-8966-c4a7e7bb5413",
   "metadata": {},
   "outputs": [],
   "source": [
    "import xarray as xr\n",
    "import numpy as np\n",
    "import matplotlib.pyplot as plt"
   ]
  },
  {
   "cell_type": "markdown",
   "id": "61465f5a-f0d9-4e31-9317-56784bd71df8",
   "metadata": {},
   "source": [
    "# Past Hammoz"
   ]
  },
  {
   "cell_type": "code",
   "execution_count": null,
   "id": "2dc2e022-accf-45f6-a648-ca8d8be302fa",
   "metadata": {},
   "outputs": [],
   "source": [
    "model = xr.open_dataset('E://faks//cda//cmip6//ham_hist_interpo.nc')\n",
    "time_slice = slice('1981-01-01T00:00:00.000000000','2014-12-31T23:30:00.000000000')\n",
    "modelsel = model.sel(time=time_slice)\n",
    "model_ham = modelsel.tas.drop_vars(['lat', 'lon','height']).sel(time=modelsel.time.dt.month.isin([1, 2, 3, 4, 10, 11, 12])) - 273.15"
   ]
  },
  {
   "cell_type": "code",
   "execution_count": null,
   "id": "7fdef63e-61d9-495a-bb07-21934d135c54",
   "metadata": {},
   "outputs": [],
   "source": [
    "model_ham"
   ]
  },
  {
   "cell_type": "markdown",
   "id": "24a37317-5709-4818-9284-180801ba23d1",
   "metadata": {},
   "source": [
    "### Bias correction"
   ]
  },
  {
   "cell_type": "code",
   "execution_count": null,
   "id": "512d2da5-e940-4536-b3c7-17a61cd41d83",
   "metadata": {},
   "outputs": [],
   "source": [
    "bias_set = xr.open_dataset('E://faks//cda//era5//bias_monthly_7.nc')\n",
    "bias = bias_set.__xarray_dataarray_variable__.values"
   ]
  },
  {
   "cell_type": "code",
   "execution_count": null,
   "id": "52398ca1-ccb8-4420-8bac-9c822f2e33c4",
   "metadata": {},
   "outputs": [],
   "source": [
    "bias"
   ]
  },
  {
   "cell_type": "code",
   "execution_count": null,
   "id": "ac3948d7-31f8-4135-aabf-2823e3b4b411",
   "metadata": {},
   "outputs": [],
   "source": [
    "model_ham_grouped = model_ham.groupby(model_ham.time.dt.month)\n",
    "months = [1, 2, 3,4, 10, 11, 12]\n",
    "bias_index = 0\n",
    "for month in months:\n",
    "    model_ham_without_bias = model_ham_grouped.apply(lambda x: x - bias[bias_index])\n",
    "    bias_index = bias_index + 1"
   ]
  },
  {
   "cell_type": "code",
   "execution_count": null,
   "id": "8d43201a-5c07-40cf-b036-caf140dc1196",
   "metadata": {},
   "outputs": [],
   "source": [
    "model_ham_without_bias"
   ]
  },
  {
   "cell_type": "markdown",
   "id": "724aeb37-45f1-42d4-bf60-af449a49bca8",
   "metadata": {},
   "source": [
    "## And now the apples.."
   ]
  },
  {
   "cell_type": "markdown",
   "id": "2807bdb3-6f37-4588-955e-1466f301d792",
   "metadata": {},
   "source": [
    "### Utah"
   ]
  },
  {
   "cell_type": "code",
   "execution_count": null,
   "id": "14081659-0c49-4acd-9890-890b13521678",
   "metadata": {},
   "outputs": [],
   "source": [
    "temp=model_ham_without_bias\n",
    "temp1=xr.where((temp>= 1.5) & (temp <= 2.4), 0.5 , np.nan)\n",
    "temp2=xr.where((temp>= 2.5) & (temp <= 9.1), 1, np.nan)\n",
    "temp3=xr.where((temp>= 9.2) & (temp <= 12.4), 0.5 , np.nan)\n",
    "temp4=xr.where((temp>= 12.5) & (temp <= 15.9), 0 , np.nan)\n",
    "temp5=xr.where((temp>= 16) & (temp <= 18), (-0.5) , np.nan)\n",
    "temp6=xr.where((temp>= 18), -1 , np.nan)\n",
    "hours = temp1 + temp2 + temp3 + temp4 + temp5 + temp6"
   ]
  },
  {
   "cell_type": "code",
   "execution_count": null,
   "id": "abce8e6a-90db-4ded-809b-642f3b1501b7",
   "metadata": {},
   "outputs": [],
   "source": [
    "yearsum1 = temp1.groupby('time.year').sum(dim='time')\n",
    "yearsum2 = temp2.groupby('time.year').sum(dim='time')\n",
    "yearsum3 = temp3.groupby('time.year').sum(dim='time')\n",
    "yearsum4 = temp4.groupby('time.year').sum(dim='time')\n",
    "yearsum5 = temp5.groupby('time.year').sum(dim='time')\n",
    "yearsum6 = temp6.groupby('time.year').sum(dim='time')"
   ]
  },
  {
   "cell_type": "code",
   "execution_count": null,
   "id": "51e2b125-cb4a-49e2-8e14-7e469a21b30a",
   "metadata": {},
   "outputs": [],
   "source": [
    "yearsum = yearsum1 + yearsum2 + yearsum3 + yearsum4 + yearsum5 + yearsum6"
   ]
  },
  {
   "cell_type": "code",
   "execution_count": null,
   "id": "a1cf3d71-8324-45b7-891d-1bdb297f4709",
   "metadata": {},
   "outputs": [],
   "source": [
    "plt.plot(yearsum)"
   ]
  },
  {
   "cell_type": "markdown",
   "id": "457f03a8-bc7f-4ca9-b0b6-6ce6b11122ab",
   "metadata": {},
   "source": [
    "### Chill hour"
   ]
  },
  {
   "cell_type": "code",
   "execution_count": null,
   "id": "f32651b7-aabf-4725-956e-da6718641f35",
   "metadata": {},
   "outputs": [],
   "source": [
    "chill_hours = xr.where((temp>= 0) & (temp <= 7.2), 1 , np.nan)    #returns the variable 'chill_hours' with boolean values\n",
    "chill_hours_year = chill_hours.groupby('time.year').sum(dim='time')\n",
    "plt.plot(chill_hours_year, color='red')"
   ]
  },
  {
   "cell_type": "code",
   "execution_count": null,
   "id": "7e0fce8e-8a3d-44be-bc9e-0ab1c4544649",
   "metadata": {},
   "outputs": [],
   "source": [
    "#comparison between apple models\n",
    "plt.plot(chill_hours_year, color='red') #chill hour model\n",
    "plt.plot(yearsum) #utah"
   ]
  },
  {
   "cell_type": "markdown",
   "id": "27d78a79-e67d-4b9f-90c9-876259e026b6",
   "metadata": {},
   "source": [
    "# Future Hammoz"
   ]
  },
  {
   "cell_type": "code",
   "execution_count": null,
   "id": "8d7be83f-ca69-40f3-a10a-1f52b88a6547",
   "metadata": {},
   "outputs": [],
   "source": [
    "model_ssp = xr.open_dataset('E://faks//cda//cmip6//Hammoz_ssp_merge_new.nc')\n",
    "model_ham_ssp = model_ssp.tas.drop_vars(['lat', 'lon','height']).sel(time=model_ssp.time.dt.month.isin([1, 2, 3,4, 10, 11, 12])) - 273.15"
   ]
  },
  {
   "cell_type": "markdown",
   "id": "10c4a773-6059-48a6-a33f-0d164b3539db",
   "metadata": {},
   "source": [
    "### Bias correction"
   ]
  },
  {
   "cell_type": "code",
   "execution_count": null,
   "id": "b299869d-1717-4908-b382-197107ea9808",
   "metadata": {},
   "outputs": [],
   "source": [
    "model_ham_grouped_ssp = model_ham_ssp.groupby(model_ham_ssp.time.dt.month)\n",
    "months = [1, 2, 3,4, 10, 11, 12]\n",
    "bias_index = 0\n",
    "for month in months:\n",
    "    model_ham_without_bias_ssp = model_ham_grouped_ssp.apply(lambda x: x - bias[bias_index])\n",
    "    bias_index = bias_index + 1"
   ]
  },
  {
   "cell_type": "markdown",
   "id": "9173c7ce-67e6-4805-9189-d31992f8c7a5",
   "metadata": {},
   "source": [
    "### Utah"
   ]
  },
  {
   "cell_type": "code",
   "execution_count": null,
   "id": "b17f3c59-97ea-4e18-b3be-768f75321f24",
   "metadata": {},
   "outputs": [],
   "source": [
    "temp=model_ham_without_bias_ssp\n",
    "temp1=xr.where((temp>= 1.5) & (temp <= 2.4), 0.5 , np.nan)\n",
    "temp2=xr.where((temp>= 2.5) & (temp <= 9.1), 1, np.nan)\n",
    "temp3=xr.where((temp>= 9.2) & (temp <= 12.4), 0.5 , np.nan)\n",
    "temp4=xr.where((temp>= 12.5) & (temp <= 15.9), 0 , np.nan)\n",
    "temp5=xr.where((temp>= 16) & (temp <= 18), (-0.5) , np.nan)\n",
    "temp6=xr.where((temp>= 18), -1 , np.nan)\n",
    "hours = temp1 + temp2 + temp3 + temp4 + temp5 + temp6"
   ]
  },
  {
   "cell_type": "code",
   "execution_count": null,
   "id": "e0b1eaad-2344-441f-9ba8-eb85cde8af88",
   "metadata": {},
   "outputs": [],
   "source": [
    "yearsum1 = temp1.groupby('time.year').sum(dim='time')\n",
    "yearsum2 = temp2.groupby('time.year').sum(dim='time')\n",
    "yearsum3 = temp3.groupby('time.year').sum(dim='time')\n",
    "yearsum4 = temp4.groupby('time.year').sum(dim='time')\n",
    "yearsum5 = temp5.groupby('time.year').sum(dim='time')\n",
    "yearsum6 = temp6.groupby('time.year').sum(dim='time')"
   ]
  },
  {
   "cell_type": "code",
   "execution_count": null,
   "id": "948452b1-531f-416a-8b34-0039cf09c761",
   "metadata": {},
   "outputs": [],
   "source": [
    "yearsum_ssp = yearsum1 + yearsum2 + yearsum3 + yearsum4 + yearsum5 + yearsum6"
   ]
  },
  {
   "cell_type": "code",
   "execution_count": null,
   "id": "a6fd4711-a682-434e-bc21-144e9420cd46",
   "metadata": {},
   "outputs": [],
   "source": [
    "plt.plot(yearsum_ssp)"
   ]
  },
  {
   "cell_type": "markdown",
   "id": "f387d4c1-7d5a-43a7-80c7-644fe392d424",
   "metadata": {},
   "source": [
    "### Chill hour"
   ]
  },
  {
   "cell_type": "code",
   "execution_count": null,
   "id": "52a3bf3b-9c8d-46a0-82d3-2cfd69fd3be6",
   "metadata": {},
   "outputs": [],
   "source": [
    "chill_hours = xr.where((temp>= 0) & (temp <= 7.2), 1 , np.nan)    #returns the variable 'chill_hours' with boolean values\n",
    "chill_hours_year_ssp = chill_hours.groupby('time.year').sum(dim='time')\n",
    "plt.plot(chill_hours_year_ssp, color='red')"
   ]
  },
  {
   "cell_type": "code",
   "execution_count": null,
   "id": "a1cf7cba-590f-412d-8aba-afbc82101f66",
   "metadata": {},
   "outputs": [],
   "source": [
    "#comparison between apple models\n",
    "plt.plot(chill_hours_year_ssp, color='red') #chill hour model\n",
    "plt.plot(yearsum_ssp) #utah"
   ]
  },
  {
   "cell_type": "markdown",
   "id": "2b989055-3566-430d-8a5e-78d69b659034",
   "metadata": {},
   "source": [
    "--------"
   ]
  },
  {
   "cell_type": "markdown",
   "id": "3e373310-9c5b-44a7-8737-c8e0014c7737",
   "metadata": {},
   "source": [
    "------"
   ]
  },
  {
   "cell_type": "markdown",
   "id": "1daaa3ca-8c0b-4759-85e8-4f91cc986d9b",
   "metadata": {},
   "source": [
    "-----------"
   ]
  },
  {
   "cell_type": "markdown",
   "id": "e863d7e4-9400-4208-945c-6c4af2d9aacf",
   "metadata": {},
   "source": [
    "Visualisations we decided on:"
   ]
  },
  {
   "cell_type": "markdown",
   "id": "87ee46d4-0ba5-49a3-9209-d1fb18ed879a",
   "metadata": {},
   "source": [
    "# Utah model"
   ]
  },
  {
   "cell_type": "code",
   "execution_count": null,
   "id": "04f1f25b-6311-4e63-8fc8-8b8acac652a1",
   "metadata": {},
   "outputs": [],
   "source": [
    "#deviding the future into two periods:\n",
    "time_slice1 = slice('2015-01-01T00:00:00.000000000','2035-12-31T23:30:00.000000000')\n",
    "time_slice2 = slice('2035-01-01T00:00:00.000000000','2055-12-31T23:30:00.000000000')\n",
    "yearsum_ssp1  = yearsum_ssp.sel(year=time_slice1).mean('year')\n",
    "yearsum_ssp2  = yearsum_ssp.sel(year=time_slice2).mean('year')\n",
    "chill_hours_year_ssp1  = chill_hours_year_ssp.sel(year=time_slice1).mean('year')\n",
    "chill_hours_year_ssp2  = chill_hours_year_ssp.sel(year=time_slice2).mean('year')"
   ]
  },
  {
   "cell_type": "code",
   "execution_count": null,
   "id": "90f077b3-4fe4-489e-b3a5-e38c0b74795e",
   "metadata": {},
   "outputs": [],
   "source": [
    "yearsum_ssp1 "
   ]
  },
  {
   "cell_type": "code",
   "execution_count": null,
   "id": "1885040e-c723-4655-9483-134cddfd7ec2",
   "metadata": {},
   "outputs": [],
   "source": [
    "fig, ax = plt.subplots(figsize=(12, 7))\n",
    "yearsum.plot(ax = ax, x='year',color = 'cornflowerblue', label='Historical model')\n",
    "yearsum_ssp.plot(ax = ax, x='year', color = 'midnightblue', label='SSP585 model')\n",
    "plt.title(\"Utah chill hour units - yearly count\")\n",
    "ax.set_ylabel('hours')\n",
    "ax.axhline(y=yearsum.mean('year'), color='lightsteelblue', label='Historical mean = 424.18', xmin=0, xmax=0.46)\n",
    "ax.axhline(yearsum_ssp1, color='black', label='SSP585 mean 2015-2035', xmin=0.46, xmax=0.72)\n",
    "ax.axhline(yearsum_ssp2, color='black', label='SSP585 mean 2035-2055 ', xmin=0.72, xmax=1)\n",
    "ax.axhspan(ymin=500, ymax=1000, color='peachpuff', alpha=1, label='Optimum chill hour range')\n",
    "ax.legend(loc='upper right')\n",
    "plt.show()"
   ]
  },
  {
   "cell_type": "markdown",
   "id": "bb3730c7-c385-4ff9-8e48-e6f57ec4c53e",
   "metadata": {},
   "source": [
    "# Chill hour"
   ]
  },
  {
   "cell_type": "code",
   "execution_count": null,
   "id": "82030574-94b4-4690-8949-14dbc537b520",
   "metadata": {},
   "outputs": [],
   "source": [
    "fig, ax = plt.subplots(figsize=(12, 7))\n",
    "chill_hours_year.plot(ax = ax, x='year',color = 'cornflowerblue', label='Historical model')\n",
    "chill_hours_year_ssp.plot(ax = ax, x='year', color = 'midnightblue', label='SSP585 model')\n",
    "plt.title(\"Winter chill hours - yearly count\")\n",
    "ax.set_ylabel('hours')\n",
    "ax.axhline(y=chill_hours_year.mean('year'), color='lightsteelblue', label='Historical mean', xmin=0, xmax=0.46)\n",
    "ax.axhline(chill_hours_year_ssp1, color='black', label='SSP585 mean 2015-2035', xmin=0.46, xmax=0.72)\n",
    "ax.axhline(chill_hours_year_ssp2, color='black', label='SSP585 mean 2035-2055 ', xmin=0.72, xmax=1)\n",
    "ax.axhspan(ymin=500, ymax=1000, color='peachpuff', alpha=1, label='Optimum chill hour range')\n",
    "ax.legend(loc='upper right')\n",
    "plt.show()"
   ]
  },
  {
   "cell_type": "markdown",
   "id": "e40c373b-1837-498d-b697-f99638b3bf86",
   "metadata": {},
   "source": [
    "--------------------"
   ]
  },
  {
   "cell_type": "markdown",
   "id": "8c0421f4-cfaf-42a8-819c-1d59659f628a",
   "metadata": {},
   "source": [
    "---------------------"
   ]
  },
  {
   "cell_type": "markdown",
   "id": "250ecd13-90bd-4c06-8751-e59981814f78",
   "metadata": {},
   "source": [
    "--------------------"
   ]
  },
  {
   "cell_type": "code",
   "execution_count": null,
   "id": "31bfd6fa-b97d-44c5-8cf5-40aac9c80f03",
   "metadata": {},
   "outputs": [],
   "source": []
  }
 ],
 "metadata": {
  "kernelspec": {
   "display_name": "Python 3 (ipykernel)",
   "language": "python",
   "name": "python3"
  },
  "language_info": {
   "codemirror_mode": {
    "name": "ipython",
    "version": 3
   },
   "file_extension": ".py",
   "mimetype": "text/x-python",
   "name": "python",
   "nbconvert_exporter": "python",
   "pygments_lexer": "ipython3",
   "version": "3.12.0"
  }
 },
 "nbformat": 4,
 "nbformat_minor": 5
}
