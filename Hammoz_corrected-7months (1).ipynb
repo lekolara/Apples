{
 "cells": [
  {
   "cell_type": "code",
   "execution_count": 12,
   "id": "6754ed95-b6dc-4d67-8966-c4a7e7bb5413",
   "metadata": {},
   "outputs": [],
   "source": [
    "import xarray as xr\n",
    "import numpy as np\n",
    "import matplotlib.pyplot as plt"
   ]
  },
  {
   "cell_type": "markdown",
   "id": "61465f5a-f0d9-4e31-9317-56784bd71df8",
   "metadata": {},
   "source": [
    "# Past Hammoz"
   ]
  },
  {
   "cell_type": "code",
   "execution_count": 8,
   "id": "2dc2e022-accf-45f6-a648-ca8d8be302fa",
   "metadata": {},
   "outputs": [],
   "source": [
    "model = xr.open_dataset('E://faks//cda//cmip6//ham_hist_interpo.nc')\n",
    "time_slice = slice('1981-01-01T00:00:00.000000000','2014-12-31T23:30:00.000000000')\n",
    "modelsel = model.sel(time=time_slice)\n",
    "model_ham = modelsel.tas.drop_vars(['lat', 'lon','height']).sel(time=modelsel.time.dt.month.isin([1, 2, 3, 4, 10, 11, 12])) - 273.15"
   ]
  },
  {
   "cell_type": "code",
   "execution_count": 9,
   "id": "7fdef63e-61d9-495a-bb07-21934d135c54",
   "metadata": {},
   "outputs": [
    {
     "data": {
      "text/html": [
       "<div><svg style=\"position: absolute; width: 0; height: 0; overflow: hidden\">\n",
       "<defs>\n",
       "<symbol id=\"icon-database\" viewBox=\"0 0 32 32\">\n",
       "<path d=\"M16 0c-8.837 0-16 2.239-16 5v4c0 2.761 7.163 5 16 5s16-2.239 16-5v-4c0-2.761-7.163-5-16-5z\"></path>\n",
       "<path d=\"M16 17c-8.837 0-16-2.239-16-5v6c0 2.761 7.163 5 16 5s16-2.239 16-5v-6c0 2.761-7.163 5-16 5z\"></path>\n",
       "<path d=\"M16 26c-8.837 0-16-2.239-16-5v6c0 2.761 7.163 5 16 5s16-2.239 16-5v-6c0 2.761-7.163 5-16 5z\"></path>\n",
       "</symbol>\n",
       "<symbol id=\"icon-file-text2\" viewBox=\"0 0 32 32\">\n",
       "<path d=\"M28.681 7.159c-0.694-0.947-1.662-2.053-2.724-3.116s-2.169-2.030-3.116-2.724c-1.612-1.182-2.393-1.319-2.841-1.319h-15.5c-1.378 0-2.5 1.121-2.5 2.5v27c0 1.378 1.122 2.5 2.5 2.5h23c1.378 0 2.5-1.122 2.5-2.5v-19.5c0-0.448-0.137-1.23-1.319-2.841zM24.543 5.457c0.959 0.959 1.712 1.825 2.268 2.543h-4.811v-4.811c0.718 0.556 1.584 1.309 2.543 2.268zM28 29.5c0 0.271-0.229 0.5-0.5 0.5h-23c-0.271 0-0.5-0.229-0.5-0.5v-27c0-0.271 0.229-0.5 0.5-0.5 0 0 15.499-0 15.5 0v7c0 0.552 0.448 1 1 1h7v19.5z\"></path>\n",
       "<path d=\"M23 26h-14c-0.552 0-1-0.448-1-1s0.448-1 1-1h14c0.552 0 1 0.448 1 1s-0.448 1-1 1z\"></path>\n",
       "<path d=\"M23 22h-14c-0.552 0-1-0.448-1-1s0.448-1 1-1h14c0.552 0 1 0.448 1 1s-0.448 1-1 1z\"></path>\n",
       "<path d=\"M23 18h-14c-0.552 0-1-0.448-1-1s0.448-1 1-1h14c0.552 0 1 0.448 1 1s-0.448 1-1 1z\"></path>\n",
       "</symbol>\n",
       "</defs>\n",
       "</svg>\n",
       "<style>/* CSS stylesheet for displaying xarray objects in jupyterlab.\n",
       " *\n",
       " */\n",
       "\n",
       ":root {\n",
       "  --xr-font-color0: var(--jp-content-font-color0, rgba(0, 0, 0, 1));\n",
       "  --xr-font-color2: var(--jp-content-font-color2, rgba(0, 0, 0, 0.54));\n",
       "  --xr-font-color3: var(--jp-content-font-color3, rgba(0, 0, 0, 0.38));\n",
       "  --xr-border-color: var(--jp-border-color2, #e0e0e0);\n",
       "  --xr-disabled-color: var(--jp-layout-color3, #bdbdbd);\n",
       "  --xr-background-color: var(--jp-layout-color0, white);\n",
       "  --xr-background-color-row-even: var(--jp-layout-color1, white);\n",
       "  --xr-background-color-row-odd: var(--jp-layout-color2, #eeeeee);\n",
       "}\n",
       "\n",
       "html[theme=dark],\n",
       "body[data-theme=dark],\n",
       "body.vscode-dark {\n",
       "  --xr-font-color0: rgba(255, 255, 255, 1);\n",
       "  --xr-font-color2: rgba(255, 255, 255, 0.54);\n",
       "  --xr-font-color3: rgba(255, 255, 255, 0.38);\n",
       "  --xr-border-color: #1F1F1F;\n",
       "  --xr-disabled-color: #515151;\n",
       "  --xr-background-color: #111111;\n",
       "  --xr-background-color-row-even: #111111;\n",
       "  --xr-background-color-row-odd: #313131;\n",
       "}\n",
       "\n",
       ".xr-wrap {\n",
       "  display: block !important;\n",
       "  min-width: 300px;\n",
       "  max-width: 700px;\n",
       "}\n",
       "\n",
       ".xr-text-repr-fallback {\n",
       "  /* fallback to plain text repr when CSS is not injected (untrusted notebook) */\n",
       "  display: none;\n",
       "}\n",
       "\n",
       ".xr-header {\n",
       "  padding-top: 6px;\n",
       "  padding-bottom: 6px;\n",
       "  margin-bottom: 4px;\n",
       "  border-bottom: solid 1px var(--xr-border-color);\n",
       "}\n",
       "\n",
       ".xr-header > div,\n",
       ".xr-header > ul {\n",
       "  display: inline;\n",
       "  margin-top: 0;\n",
       "  margin-bottom: 0;\n",
       "}\n",
       "\n",
       ".xr-obj-type,\n",
       ".xr-array-name {\n",
       "  margin-left: 2px;\n",
       "  margin-right: 10px;\n",
       "}\n",
       "\n",
       ".xr-obj-type {\n",
       "  color: var(--xr-font-color2);\n",
       "}\n",
       "\n",
       ".xr-sections {\n",
       "  padding-left: 0 !important;\n",
       "  display: grid;\n",
       "  grid-template-columns: 150px auto auto 1fr 20px 20px;\n",
       "}\n",
       "\n",
       ".xr-section-item {\n",
       "  display: contents;\n",
       "}\n",
       "\n",
       ".xr-section-item input {\n",
       "  display: none;\n",
       "}\n",
       "\n",
       ".xr-section-item input + label {\n",
       "  color: var(--xr-disabled-color);\n",
       "}\n",
       "\n",
       ".xr-section-item input:enabled + label {\n",
       "  cursor: pointer;\n",
       "  color: var(--xr-font-color2);\n",
       "}\n",
       "\n",
       ".xr-section-item input:enabled + label:hover {\n",
       "  color: var(--xr-font-color0);\n",
       "}\n",
       "\n",
       ".xr-section-summary {\n",
       "  grid-column: 1;\n",
       "  color: var(--xr-font-color2);\n",
       "  font-weight: 500;\n",
       "}\n",
       "\n",
       ".xr-section-summary > span {\n",
       "  display: inline-block;\n",
       "  padding-left: 0.5em;\n",
       "}\n",
       "\n",
       ".xr-section-summary-in:disabled + label {\n",
       "  color: var(--xr-font-color2);\n",
       "}\n",
       "\n",
       ".xr-section-summary-in + label:before {\n",
       "  display: inline-block;\n",
       "  content: '►';\n",
       "  font-size: 11px;\n",
       "  width: 15px;\n",
       "  text-align: center;\n",
       "}\n",
       "\n",
       ".xr-section-summary-in:disabled + label:before {\n",
       "  color: var(--xr-disabled-color);\n",
       "}\n",
       "\n",
       ".xr-section-summary-in:checked + label:before {\n",
       "  content: '▼';\n",
       "}\n",
       "\n",
       ".xr-section-summary-in:checked + label > span {\n",
       "  display: none;\n",
       "}\n",
       "\n",
       ".xr-section-summary,\n",
       ".xr-section-inline-details {\n",
       "  padding-top: 4px;\n",
       "  padding-bottom: 4px;\n",
       "}\n",
       "\n",
       ".xr-section-inline-details {\n",
       "  grid-column: 2 / -1;\n",
       "}\n",
       "\n",
       ".xr-section-details {\n",
       "  display: none;\n",
       "  grid-column: 1 / -1;\n",
       "  margin-bottom: 5px;\n",
       "}\n",
       "\n",
       ".xr-section-summary-in:checked ~ .xr-section-details {\n",
       "  display: contents;\n",
       "}\n",
       "\n",
       ".xr-array-wrap {\n",
       "  grid-column: 1 / -1;\n",
       "  display: grid;\n",
       "  grid-template-columns: 20px auto;\n",
       "}\n",
       "\n",
       ".xr-array-wrap > label {\n",
       "  grid-column: 1;\n",
       "  vertical-align: top;\n",
       "}\n",
       "\n",
       ".xr-preview {\n",
       "  color: var(--xr-font-color3);\n",
       "}\n",
       "\n",
       ".xr-array-preview,\n",
       ".xr-array-data {\n",
       "  padding: 0 5px !important;\n",
       "  grid-column: 2;\n",
       "}\n",
       "\n",
       ".xr-array-data,\n",
       ".xr-array-in:checked ~ .xr-array-preview {\n",
       "  display: none;\n",
       "}\n",
       "\n",
       ".xr-array-in:checked ~ .xr-array-data,\n",
       ".xr-array-preview {\n",
       "  display: inline-block;\n",
       "}\n",
       "\n",
       ".xr-dim-list {\n",
       "  display: inline-block !important;\n",
       "  list-style: none;\n",
       "  padding: 0 !important;\n",
       "  margin: 0;\n",
       "}\n",
       "\n",
       ".xr-dim-list li {\n",
       "  display: inline-block;\n",
       "  padding: 0;\n",
       "  margin: 0;\n",
       "}\n",
       "\n",
       ".xr-dim-list:before {\n",
       "  content: '(';\n",
       "}\n",
       "\n",
       ".xr-dim-list:after {\n",
       "  content: ')';\n",
       "}\n",
       "\n",
       ".xr-dim-list li:not(:last-child):after {\n",
       "  content: ',';\n",
       "  padding-right: 5px;\n",
       "}\n",
       "\n",
       ".xr-has-index {\n",
       "  font-weight: bold;\n",
       "}\n",
       "\n",
       ".xr-var-list,\n",
       ".xr-var-item {\n",
       "  display: contents;\n",
       "}\n",
       "\n",
       ".xr-var-item > div,\n",
       ".xr-var-item label,\n",
       ".xr-var-item > .xr-var-name span {\n",
       "  background-color: var(--xr-background-color-row-even);\n",
       "  margin-bottom: 0;\n",
       "}\n",
       "\n",
       ".xr-var-item > .xr-var-name:hover span {\n",
       "  padding-right: 5px;\n",
       "}\n",
       "\n",
       ".xr-var-list > li:nth-child(odd) > div,\n",
       ".xr-var-list > li:nth-child(odd) > label,\n",
       ".xr-var-list > li:nth-child(odd) > .xr-var-name span {\n",
       "  background-color: var(--xr-background-color-row-odd);\n",
       "}\n",
       "\n",
       ".xr-var-name {\n",
       "  grid-column: 1;\n",
       "}\n",
       "\n",
       ".xr-var-dims {\n",
       "  grid-column: 2;\n",
       "}\n",
       "\n",
       ".xr-var-dtype {\n",
       "  grid-column: 3;\n",
       "  text-align: right;\n",
       "  color: var(--xr-font-color2);\n",
       "}\n",
       "\n",
       ".xr-var-preview {\n",
       "  grid-column: 4;\n",
       "}\n",
       "\n",
       ".xr-index-preview {\n",
       "  grid-column: 2 / 5;\n",
       "  color: var(--xr-font-color2);\n",
       "}\n",
       "\n",
       ".xr-var-name,\n",
       ".xr-var-dims,\n",
       ".xr-var-dtype,\n",
       ".xr-preview,\n",
       ".xr-attrs dt {\n",
       "  white-space: nowrap;\n",
       "  overflow: hidden;\n",
       "  text-overflow: ellipsis;\n",
       "  padding-right: 10px;\n",
       "}\n",
       "\n",
       ".xr-var-name:hover,\n",
       ".xr-var-dims:hover,\n",
       ".xr-var-dtype:hover,\n",
       ".xr-attrs dt:hover {\n",
       "  overflow: visible;\n",
       "  width: auto;\n",
       "  z-index: 1;\n",
       "}\n",
       "\n",
       ".xr-var-attrs,\n",
       ".xr-var-data,\n",
       ".xr-index-data {\n",
       "  display: none;\n",
       "  background-color: var(--xr-background-color) !important;\n",
       "  padding-bottom: 5px !important;\n",
       "}\n",
       "\n",
       ".xr-var-attrs-in:checked ~ .xr-var-attrs,\n",
       ".xr-var-data-in:checked ~ .xr-var-data,\n",
       ".xr-index-data-in:checked ~ .xr-index-data {\n",
       "  display: block;\n",
       "}\n",
       "\n",
       ".xr-var-data > table {\n",
       "  float: right;\n",
       "}\n",
       "\n",
       ".xr-var-name span,\n",
       ".xr-var-data,\n",
       ".xr-index-name div,\n",
       ".xr-index-data,\n",
       ".xr-attrs {\n",
       "  padding-left: 25px !important;\n",
       "}\n",
       "\n",
       ".xr-attrs,\n",
       ".xr-var-attrs,\n",
       ".xr-var-data,\n",
       ".xr-index-data {\n",
       "  grid-column: 1 / -1;\n",
       "}\n",
       "\n",
       "dl.xr-attrs {\n",
       "  padding: 0;\n",
       "  margin: 0;\n",
       "  display: grid;\n",
       "  grid-template-columns: 125px auto;\n",
       "}\n",
       "\n",
       ".xr-attrs dt,\n",
       ".xr-attrs dd {\n",
       "  padding: 0;\n",
       "  margin: 0;\n",
       "  float: left;\n",
       "  padding-right: 10px;\n",
       "  width: auto;\n",
       "}\n",
       "\n",
       ".xr-attrs dt {\n",
       "  font-weight: normal;\n",
       "  grid-column: 1;\n",
       "}\n",
       "\n",
       ".xr-attrs dt:hover span {\n",
       "  display: inline-block;\n",
       "  background: var(--xr-background-color);\n",
       "  padding-right: 10px;\n",
       "}\n",
       "\n",
       ".xr-attrs dd {\n",
       "  grid-column: 2;\n",
       "  white-space: pre-wrap;\n",
       "  word-break: break-all;\n",
       "}\n",
       "\n",
       ".xr-icon-database,\n",
       ".xr-icon-file-text2,\n",
       ".xr-no-icon {\n",
       "  display: inline-block;\n",
       "  vertical-align: middle;\n",
       "  width: 1em;\n",
       "  height: 1.5em !important;\n",
       "  stroke-width: 0;\n",
       "  stroke: currentColor;\n",
       "  fill: currentColor;\n",
       "}\n",
       "</style><pre class='xr-text-repr-fallback'>&lt;xarray.DataArray &#x27;tas&#x27; (time: 173184)&gt;\n",
       "array([-2.201294 , -1.9090271, -1.6486816, ...,  7.2030334,  7.4024353,\n",
       "        7.5882874], dtype=float32)\n",
       "Coordinates:\n",
       "  * time     (time) datetime64[ns] 1981-01-01T00:29:59.999999488 ... 2014-12-...\n",
       "    height   float64 ...\n",
       "    lat      int32 ...\n",
       "    lon      int32 ...</pre><div class='xr-wrap' style='display:none'><div class='xr-header'><div class='xr-obj-type'>xarray.DataArray</div><div class='xr-array-name'>'tas'</div><ul class='xr-dim-list'><li><span class='xr-has-index'>time</span>: 173184</li></ul></div><ul class='xr-sections'><li class='xr-section-item'><div class='xr-array-wrap'><input id='section-648f5ecd-626a-4dae-add5-143fadc52ba0' class='xr-array-in' type='checkbox' checked><label for='section-648f5ecd-626a-4dae-add5-143fadc52ba0' title='Show/hide data repr'><svg class='icon xr-icon-database'><use xlink:href='#icon-database'></use></svg></label><div class='xr-array-preview xr-preview'><span>-2.201 -1.909 -1.649 -1.382 -1.083 ... 6.782 7.0 7.203 7.402 7.588</span></div><div class='xr-array-data'><pre>array([-2.201294 , -1.9090271, -1.6486816, ...,  7.2030334,  7.4024353,\n",
       "        7.5882874], dtype=float32)</pre></div></div></li><li class='xr-section-item'><input id='section-b309c2a8-f6c3-4842-b32f-b2cc21a33d6e' class='xr-section-summary-in' type='checkbox'  checked><label for='section-b309c2a8-f6c3-4842-b32f-b2cc21a33d6e' class='xr-section-summary' >Coordinates: <span>(4)</span></label><div class='xr-section-inline-details'></div><div class='xr-section-details'><ul class='xr-var-list'><li class='xr-var-item'><div class='xr-var-name'><span class='xr-has-index'>time</span></div><div class='xr-var-dims'>(time)</div><div class='xr-var-dtype'>datetime64[ns]</div><div class='xr-var-preview xr-preview'>1981-01-01T00:29:59.999999488 .....</div><input id='attrs-2ee0f478-64bd-42bb-b5b0-71133037353a' class='xr-var-attrs-in' type='checkbox' ><label for='attrs-2ee0f478-64bd-42bb-b5b0-71133037353a' title='Show/Hide attributes'><svg class='icon xr-icon-file-text2'><use xlink:href='#icon-file-text2'></use></svg></label><input id='data-b25bdbb6-86c9-413b-975d-a7e7283faf43' class='xr-var-data-in' type='checkbox'><label for='data-b25bdbb6-86c9-413b-975d-a7e7283faf43' title='Show/Hide data repr'><svg class='icon xr-icon-database'><use xlink:href='#icon-database'></use></svg></label><div class='xr-var-attrs'><dl class='xr-attrs'><dt><span>bounds :</span></dt><dd>time_bnds</dd><dt><span>axis :</span></dt><dd>T</dd><dt><span>long_name :</span></dt><dd>time</dd><dt><span>standard_name :</span></dt><dd>time</dd></dl></div><div class='xr-var-data'><pre>array([&#x27;1981-01-01T00:29:59.999999488&#x27;, &#x27;1981-01-01T01:30:00.000000000&#x27;,\n",
       "       &#x27;1981-01-01T02:30:00.000000512&#x27;, ..., &#x27;2014-12-31T21:30:00.000000000&#x27;,\n",
       "       &#x27;2014-12-31T22:30:00.000000000&#x27;, &#x27;2014-12-31T23:30:00.000000000&#x27;],\n",
       "      dtype=&#x27;datetime64[ns]&#x27;)</pre></div></li><li class='xr-var-item'><div class='xr-var-name'><span>height</span></div><div class='xr-var-dims'>()</div><div class='xr-var-dtype'>float64</div><div class='xr-var-preview xr-preview'>...</div><input id='attrs-de7df790-6170-4ed1-8603-421b60594e9f' class='xr-var-attrs-in' type='checkbox' ><label for='attrs-de7df790-6170-4ed1-8603-421b60594e9f' title='Show/Hide attributes'><svg class='icon xr-icon-file-text2'><use xlink:href='#icon-file-text2'></use></svg></label><input id='data-266a8450-4208-4905-973a-e2f76ed6fe59' class='xr-var-data-in' type='checkbox'><label for='data-266a8450-4208-4905-973a-e2f76ed6fe59' title='Show/Hide data repr'><svg class='icon xr-icon-database'><use xlink:href='#icon-database'></use></svg></label><div class='xr-var-attrs'><dl class='xr-attrs'><dt><span>units :</span></dt><dd>m</dd><dt><span>axis :</span></dt><dd>Z</dd><dt><span>positive :</span></dt><dd>up</dd><dt><span>long_name :</span></dt><dd>height</dd><dt><span>standard_name :</span></dt><dd>height</dd></dl></div><div class='xr-var-data'><pre>[1 values with dtype=float64]</pre></div></li><li class='xr-var-item'><div class='xr-var-name'><span>lat</span></div><div class='xr-var-dims'>()</div><div class='xr-var-dtype'>int32</div><div class='xr-var-preview xr-preview'>...</div><input id='attrs-0a837801-8f47-434b-9476-3e33377b23ca' class='xr-var-attrs-in' type='checkbox' disabled><label for='attrs-0a837801-8f47-434b-9476-3e33377b23ca' title='Show/Hide attributes'><svg class='icon xr-icon-file-text2'><use xlink:href='#icon-file-text2'></use></svg></label><input id='data-8512e643-8558-4c6a-89ce-c7dd24d43ff7' class='xr-var-data-in' type='checkbox'><label for='data-8512e643-8558-4c6a-89ce-c7dd24d43ff7' title='Show/Hide data repr'><svg class='icon xr-icon-database'><use xlink:href='#icon-database'></use></svg></label><div class='xr-var-attrs'><dl class='xr-attrs'></dl></div><div class='xr-var-data'><pre>[1 values with dtype=int32]</pre></div></li><li class='xr-var-item'><div class='xr-var-name'><span>lon</span></div><div class='xr-var-dims'>()</div><div class='xr-var-dtype'>int32</div><div class='xr-var-preview xr-preview'>...</div><input id='attrs-c47728e8-a24d-49d0-8418-bbf398ef9dda' class='xr-var-attrs-in' type='checkbox' disabled><label for='attrs-c47728e8-a24d-49d0-8418-bbf398ef9dda' title='Show/Hide attributes'><svg class='icon xr-icon-file-text2'><use xlink:href='#icon-file-text2'></use></svg></label><input id='data-e26ecbad-fb87-4741-8e42-f4cf43e5fa15' class='xr-var-data-in' type='checkbox'><label for='data-e26ecbad-fb87-4741-8e42-f4cf43e5fa15' title='Show/Hide data repr'><svg class='icon xr-icon-database'><use xlink:href='#icon-database'></use></svg></label><div class='xr-var-attrs'><dl class='xr-attrs'></dl></div><div class='xr-var-data'><pre>[1 values with dtype=int32]</pre></div></li></ul></div></li><li class='xr-section-item'><input id='section-03739cea-99df-4dcb-a4fd-3a03772877d6' class='xr-section-summary-in' type='checkbox'  ><label for='section-03739cea-99df-4dcb-a4fd-3a03772877d6' class='xr-section-summary' >Indexes: <span>(1)</span></label><div class='xr-section-inline-details'></div><div class='xr-section-details'><ul class='xr-var-list'><li class='xr-var-item'><div class='xr-index-name'><div>time</div></div><div class='xr-index-preview'>PandasIndex</div><div></div><input id='index-926ab3d5-4145-4299-b44d-7e9630cd0fee' class='xr-index-data-in' type='checkbox'/><label for='index-926ab3d5-4145-4299-b44d-7e9630cd0fee' title='Show/Hide index repr'><svg class='icon xr-icon-database'><use xlink:href='#icon-database'></use></svg></label><div class='xr-index-data'><pre>PandasIndex(DatetimeIndex([&#x27;1981-01-01 00:29:59.999999488&#x27;,\n",
       "                         &#x27;1981-01-01 01:30:00&#x27;,\n",
       "               &#x27;1981-01-01 02:30:00.000000512&#x27;,\n",
       "               &#x27;1981-01-01 03:29:59.999999488&#x27;,\n",
       "                         &#x27;1981-01-01 04:30:00&#x27;,\n",
       "               &#x27;1981-01-01 05:30:00.000000512&#x27;,\n",
       "               &#x27;1981-01-01 06:29:59.999999488&#x27;,\n",
       "                         &#x27;1981-01-01 07:30:00&#x27;,\n",
       "               &#x27;1981-01-01 08:30:00.000000512&#x27;,\n",
       "               &#x27;1981-01-01 09:29:59.999999488&#x27;,\n",
       "               ...\n",
       "                         &#x27;2014-12-31 14:30:00&#x27;,\n",
       "                         &#x27;2014-12-31 15:30:00&#x27;,\n",
       "                         &#x27;2014-12-31 16:30:00&#x27;,\n",
       "                         &#x27;2014-12-31 17:30:00&#x27;,\n",
       "                         &#x27;2014-12-31 18:30:00&#x27;,\n",
       "                         &#x27;2014-12-31 19:30:00&#x27;,\n",
       "                         &#x27;2014-12-31 20:30:00&#x27;,\n",
       "                         &#x27;2014-12-31 21:30:00&#x27;,\n",
       "                         &#x27;2014-12-31 22:30:00&#x27;,\n",
       "                         &#x27;2014-12-31 23:30:00&#x27;],\n",
       "              dtype=&#x27;datetime64[ns]&#x27;, name=&#x27;time&#x27;, length=173184, freq=None))</pre></div></li></ul></div></li><li class='xr-section-item'><input id='section-5a9f14fb-8128-41a4-9740-f51ee58539ce' class='xr-section-summary-in' type='checkbox' disabled ><label for='section-5a9f14fb-8128-41a4-9740-f51ee58539ce' class='xr-section-summary'  title='Expand/collapse section'>Attributes: <span>(0)</span></label><div class='xr-section-inline-details'></div><div class='xr-section-details'><dl class='xr-attrs'></dl></div></li></ul></div></div>"
      ],
      "text/plain": [
       "<xarray.DataArray 'tas' (time: 173184)>\n",
       "array([-2.201294 , -1.9090271, -1.6486816, ...,  7.2030334,  7.4024353,\n",
       "        7.5882874], dtype=float32)\n",
       "Coordinates:\n",
       "  * time     (time) datetime64[ns] 1981-01-01T00:29:59.999999488 ... 2014-12-...\n",
       "    height   float64 ...\n",
       "    lat      int32 ...\n",
       "    lon      int32 ..."
      ]
     },
     "execution_count": 9,
     "metadata": {},
     "output_type": "execute_result"
    }
   ],
   "source": [
    "model_ham"
   ]
  },
  {
   "cell_type": "markdown",
   "id": "24a37317-5709-4818-9284-180801ba23d1",
   "metadata": {},
   "source": [
    "### Bias correction"
   ]
  },
  {
   "cell_type": "code",
   "execution_count": 14,
   "id": "512d2da5-e940-4536-b3c7-17a61cd41d83",
   "metadata": {},
   "outputs": [],
   "source": [
    "bias_set = xr.open_dataset('E://faks//cda//era5//bias_monthly_7.nc')\n",
    "bias = bias_set.__xarray_dataarray_variable__.values"
   ]
  },
  {
   "cell_type": "code",
   "execution_count": 15,
   "id": "52398ca1-ccb8-4420-8bac-9c822f2e33c4",
   "metadata": {},
   "outputs": [
    {
     "data": {
      "text/plain": [
       "array([-0.66579727, -0.73899383,  0.91762081,  1.67808034, -0.05870329,\n",
       "       -0.12518433, -0.38591374])"
      ]
     },
     "execution_count": 15,
     "metadata": {},
     "output_type": "execute_result"
    }
   ],
   "source": [
    "bias"
   ]
  },
  {
   "cell_type": "code",
   "execution_count": null,
   "id": "ac3948d7-31f8-4135-aabf-2823e3b4b411",
   "metadata": {},
   "outputs": [],
   "source": [
    "model_ham_grouped = model_ham.groupby(model_ham.time.dt.month)\n",
    "months = [1, 2, 3,4, 10, 11, 12]\n",
    "bias_index = 0\n",
    "for month in months:\n",
    "    model_ham_without_bias = model_ham_grouped.apply(lambda x: x - bias[bias_index])\n",
    "    bias_index = bias_index + 1"
   ]
  },
  {
   "cell_type": "code",
   "execution_count": null,
   "id": "8d43201a-5c07-40cf-b036-caf140dc1196",
   "metadata": {},
   "outputs": [],
   "source": [
    "model_ham_without_bias"
   ]
  },
  {
   "cell_type": "markdown",
   "id": "724aeb37-45f1-42d4-bf60-af449a49bca8",
   "metadata": {},
   "source": [
    "## And now the apples.."
   ]
  },
  {
   "cell_type": "markdown",
   "id": "2807bdb3-6f37-4588-955e-1466f301d792",
   "metadata": {},
   "source": [
    "### Utah"
   ]
  },
  {
   "cell_type": "code",
   "execution_count": null,
   "id": "14081659-0c49-4acd-9890-890b13521678",
   "metadata": {},
   "outputs": [],
   "source": [
    "temp=model_ham_without_bias\n",
    "temp1=xr.where((temp>= 1.5) & (temp <= 2.4), 0.5 , np.nan)\n",
    "temp2=xr.where((temp>= 2.5) & (temp <= 9.1), 1, np.nan)\n",
    "temp3=xr.where((temp>= 9.2) & (temp <= 12.4), 0.5 , np.nan)\n",
    "temp4=xr.where((temp>= 12.5) & (temp <= 15.9), 0 , np.nan)\n",
    "temp5=xr.where((temp>= 16) & (temp <= 18), (-0.5) , np.nan)\n",
    "temp6=xr.where((temp>= 18), -1 , np.nan)\n",
    "hours = temp1 + temp2 + temp3 + temp4 + temp5 + temp6"
   ]
  },
  {
   "cell_type": "code",
   "execution_count": null,
   "id": "abce8e6a-90db-4ded-809b-642f3b1501b7",
   "metadata": {},
   "outputs": [],
   "source": [
    "yearsum1 = temp1.groupby('time.year').sum(dim='time')\n",
    "yearsum2 = temp2.groupby('time.year').sum(dim='time')\n",
    "yearsum3 = temp3.groupby('time.year').sum(dim='time')\n",
    "yearsum4 = temp4.groupby('time.year').sum(dim='time')\n",
    "yearsum5 = temp5.groupby('time.year').sum(dim='time')\n",
    "yearsum6 = temp6.groupby('time.year').sum(dim='time')"
   ]
  },
  {
   "cell_type": "code",
   "execution_count": null,
   "id": "51e2b125-cb4a-49e2-8e14-7e469a21b30a",
   "metadata": {},
   "outputs": [],
   "source": [
    "yearsum = yearsum1 + yearsum2 + yearsum3 + yearsum4 + yearsum5 + yearsum6"
   ]
  },
  {
   "cell_type": "code",
   "execution_count": null,
   "id": "a1cf3d71-8324-45b7-891d-1bdb297f4709",
   "metadata": {},
   "outputs": [],
   "source": [
    "plt.plot(yearsum)"
   ]
  },
  {
   "cell_type": "markdown",
   "id": "457f03a8-bc7f-4ca9-b0b6-6ce6b11122ab",
   "metadata": {},
   "source": [
    "### Chill hour"
   ]
  },
  {
   "cell_type": "code",
   "execution_count": null,
   "id": "f32651b7-aabf-4725-956e-da6718641f35",
   "metadata": {},
   "outputs": [],
   "source": [
    "chill_hours = xr.where((temp>= 0) & (temp <= 7.2), 1 , np.nan)    #returns the variable 'chill_hours' with boolean values\n",
    "chill_hours_year = chill_hours.groupby('time.year').sum(dim='time')\n",
    "plt.plot(chill_hours_year, color='red')"
   ]
  },
  {
   "cell_type": "code",
   "execution_count": null,
   "id": "7e0fce8e-8a3d-44be-bc9e-0ab1c4544649",
   "metadata": {},
   "outputs": [],
   "source": [
    "#comparison between apple models\n",
    "plt.plot(chill_hours_year, color='red') #chill hour model\n",
    "plt.plot(yearsum) #utah"
   ]
  },
  {
   "cell_type": "markdown",
   "id": "27d78a79-e67d-4b9f-90c9-876259e026b6",
   "metadata": {},
   "source": [
    "# Future Hammoz"
   ]
  },
  {
   "cell_type": "code",
   "execution_count": null,
   "id": "8d7be83f-ca69-40f3-a10a-1f52b88a6547",
   "metadata": {},
   "outputs": [],
   "source": [
    "model_ssp = xr.open_dataset('E://faks//cda//cmip6//Hammoz_ssp_merge_new.nc')\n",
    "model_ham_ssp = model_ssp.tas.drop_vars(['lat', 'lon','height']).sel(time=model_ssp.time.dt.month.isin([1, 2, 3,4, 10, 11, 12])) - 273.15"
   ]
  },
  {
   "cell_type": "markdown",
   "id": "10c4a773-6059-48a6-a33f-0d164b3539db",
   "metadata": {},
   "source": [
    "### Bias correction"
   ]
  },
  {
   "cell_type": "code",
   "execution_count": null,
   "id": "b299869d-1717-4908-b382-197107ea9808",
   "metadata": {},
   "outputs": [],
   "source": [
    "model_ham_grouped_ssp = model_ham_ssp.groupby(model_ham_ssp.time.dt.month)\n",
    "months = [1, 2, 3,4, 10, 11, 12]\n",
    "bias_index = 0\n",
    "for month in months:\n",
    "    model_ham_without_bias_ssp = model_ham_grouped_ssp.apply(lambda x: x - bias[bias_index])\n",
    "    bias_index = bias_index + 1"
   ]
  },
  {
   "cell_type": "markdown",
   "id": "9173c7ce-67e6-4805-9189-d31992f8c7a5",
   "metadata": {},
   "source": [
    "### Utah"
   ]
  },
  {
   "cell_type": "code",
   "execution_count": null,
   "id": "b17f3c59-97ea-4e18-b3be-768f75321f24",
   "metadata": {},
   "outputs": [],
   "source": [
    "temp=model_ham_without_bias_ssp\n",
    "temp1=xr.where((temp>= 1.5) & (temp <= 2.4), 0.5 , np.nan)\n",
    "temp2=xr.where((temp>= 2.5) & (temp <= 9.1), 1, np.nan)\n",
    "temp3=xr.where((temp>= 9.2) & (temp <= 12.4), 0.5 , np.nan)\n",
    "temp4=xr.where((temp>= 12.5) & (temp <= 15.9), 0 , np.nan)\n",
    "temp5=xr.where((temp>= 16) & (temp <= 18), (-0.5) , np.nan)\n",
    "temp6=xr.where((temp>= 18), -1 , np.nan)\n",
    "hours = temp1 + temp2 + temp3 + temp4 + temp5 + temp6"
   ]
  },
  {
   "cell_type": "code",
   "execution_count": null,
   "id": "e0b1eaad-2344-441f-9ba8-eb85cde8af88",
   "metadata": {},
   "outputs": [],
   "source": [
    "yearsum1 = temp1.groupby('time.year').sum(dim='time')\n",
    "yearsum2 = temp2.groupby('time.year').sum(dim='time')\n",
    "yearsum3 = temp3.groupby('time.year').sum(dim='time')\n",
    "yearsum4 = temp4.groupby('time.year').sum(dim='time')\n",
    "yearsum5 = temp5.groupby('time.year').sum(dim='time')\n",
    "yearsum6 = temp6.groupby('time.year').sum(dim='time')"
   ]
  },
  {
   "cell_type": "code",
   "execution_count": null,
   "id": "948452b1-531f-416a-8b34-0039cf09c761",
   "metadata": {},
   "outputs": [],
   "source": [
    "yearsum_ssp = yearsum1 + yearsum2 + yearsum3 + yearsum4 + yearsum5 + yearsum6"
   ]
  },
  {
   "cell_type": "code",
   "execution_count": null,
   "id": "a6fd4711-a682-434e-bc21-144e9420cd46",
   "metadata": {},
   "outputs": [],
   "source": [
    "plt.plot(yearsum_ssp)"
   ]
  },
  {
   "cell_type": "markdown",
   "id": "f387d4c1-7d5a-43a7-80c7-644fe392d424",
   "metadata": {},
   "source": [
    "### Chill hour"
   ]
  },
  {
   "cell_type": "code",
   "execution_count": null,
   "id": "52a3bf3b-9c8d-46a0-82d3-2cfd69fd3be6",
   "metadata": {},
   "outputs": [],
   "source": [
    "chill_hours = xr.where((temp>= 0) & (temp <= 7.2), 1 , np.nan)    #returns the variable 'chill_hours' with boolean values\n",
    "chill_hours_year_ssp = chill_hours.groupby('time.year').sum(dim='time')\n",
    "plt.plot(chill_hours_year_ssp, color='red')"
   ]
  },
  {
   "cell_type": "code",
   "execution_count": null,
   "id": "a1cf7cba-590f-412d-8aba-afbc82101f66",
   "metadata": {},
   "outputs": [],
   "source": [
    "#comparison between apple models\n",
    "plt.plot(chill_hours_year_ssp, color='red') #chill hour model\n",
    "plt.plot(yearsum_ssp) #utah"
   ]
  },
  {
   "cell_type": "markdown",
   "id": "2b989055-3566-430d-8a5e-78d69b659034",
   "metadata": {},
   "source": [
    "--------"
   ]
  },
  {
   "cell_type": "markdown",
   "id": "3e373310-9c5b-44a7-8737-c8e0014c7737",
   "metadata": {},
   "source": [
    "------"
   ]
  },
  {
   "cell_type": "markdown",
   "id": "1daaa3ca-8c0b-4759-85e8-4f91cc986d9b",
   "metadata": {},
   "source": [
    "-----------"
   ]
  },
  {
   "cell_type": "markdown",
   "id": "e863d7e4-9400-4208-945c-6c4af2d9aacf",
   "metadata": {},
   "source": [
    "Visualisations we decided on:"
   ]
  },
  {
   "cell_type": "markdown",
   "id": "87ee46d4-0ba5-49a3-9209-d1fb18ed879a",
   "metadata": {},
   "source": [
    "# Utah model"
   ]
  },
  {
   "cell_type": "code",
   "execution_count": null,
   "id": "04f1f25b-6311-4e63-8fc8-8b8acac652a1",
   "metadata": {},
   "outputs": [],
   "source": [
    "#deviding the future into two periods:\n",
    "time_slice1 = slice('2015-01-01T00:00:00.000000000','2035-12-31T23:30:00.000000000')\n",
    "time_slice2 = slice('2035-01-01T00:00:00.000000000','2055-12-31T23:30:00.000000000')\n",
    "yearsum_ssp1  = yearsum_ssp.sel(year=time_slice1).mean('year')\n",
    "yearsum_ssp2  = yearsum_ssp.sel(year=time_slice2).mean('year')\n",
    "chill_hours_year_ssp1  = chill_hours_year_ssp.sel(year=time_slice1).mean('year')\n",
    "chill_hours_year_ssp2  = chill_hours_year_ssp.sel(year=time_slice2).mean('year')"
   ]
  },
  {
   "cell_type": "code",
   "execution_count": null,
   "id": "90f077b3-4fe4-489e-b3a5-e38c0b74795e",
   "metadata": {},
   "outputs": [],
   "source": [
    "yearsum_ssp1 "
   ]
  },
  {
   "cell_type": "code",
   "execution_count": null,
   "id": "1885040e-c723-4655-9483-134cddfd7ec2",
   "metadata": {},
   "outputs": [],
   "source": [
    "fig, ax = plt.subplots(figsize=(12, 7))\n",
    "yearsum.plot(ax = ax, x='year',color = 'cornflowerblue', label='Historical model')\n",
    "yearsum_ssp.plot(ax = ax, x='year', color = 'midnightblue', label='SSP585 model')\n",
    "plt.title(\"Utah chill hour units - yearly count for the MPI-ESM1.2-HAM model\")\n",
    "ax.set_ylabel('hours')\n",
    "ax.axhline(y=yearsum.mean('year'), color='lightsteelblue', label='Historical mean', xmin=0, xmax=0.46)\n",
    "ax.axhline(yearsum_ssp1, color='black', label='SSP585 mean 2015-2035', xmin=0.46, xmax=0.72)\n",
    "ax.axhline(yearsum_ssp2, color='black', label='SSP585 mean 2035-2055 ', xmin=0.72, xmax=1)\n",
    "ax.axhline(2563, color='peachpuff', label='Historical mean chill hours', linewidth=3)\n",
    "ax.legend(loc='upper right')\n",
    "plt.show()"
   ]
  },
  {
   "cell_type": "markdown",
   "id": "bb3730c7-c385-4ff9-8e48-e6f57ec4c53e",
   "metadata": {},
   "source": [
    "# Chill hour"
   ]
  },
  {
   "cell_type": "code",
   "execution_count": null,
   "id": "82030574-94b4-4690-8949-14dbc537b520",
   "metadata": {},
   "outputs": [],
   "source": [
    "fig, ax = plt.subplots(figsize=(12, 7))\n",
    "chill_hours_year.plot(ax = ax, x='year',color = 'cornflowerblue', label='Historical model')\n",
    "chill_hours_year_ssp.plot(ax = ax, x='year', color = 'midnightblue', label='SSP585 model')\n",
    "plt.title(\"Winter chill hours - yearly count for the MPI-ESM1.2-HAM model\")\n",
    "ax.set_ylabel('hours')\n",
    "ax.axhline(y=chill_hours_year.mean('year'), color='lightsteelblue', label='Historical mean', xmin=0, xmax=0.46)\n",
    "ax.axhline(chill_hours_year_ssp1, color='black', label='SSP585 mean 2015-2035', xmin=0.46, xmax=0.72)\n",
    "ax.axhline(chill_hours_year_ssp2, color='black', label='SSP585 mean 2035-2055 ', xmin=0.72, xmax=1)\n",
    "ax.axhline(2683, color='peachpuff', label='Historical mean chill hours', linewidth=3)\n",
    "ax.legend(loc='upper right')\n",
    "plt.show()"
   ]
  },
  {
   "cell_type": "markdown",
   "id": "e40c373b-1837-498d-b697-f99638b3bf86",
   "metadata": {},
   "source": [
    "--------------------"
   ]
  },
  {
   "cell_type": "markdown",
   "id": "8c0421f4-cfaf-42a8-819c-1d59659f628a",
   "metadata": {},
   "source": [
    "---------------------"
   ]
  },
  {
   "cell_type": "markdown",
   "id": "250ecd13-90bd-4c06-8751-e59981814f78",
   "metadata": {},
   "source": [
    "--------------------"
   ]
  },
  {
   "cell_type": "code",
   "execution_count": null,
   "id": "31bfd6fa-b97d-44c5-8cf5-40aac9c80f03",
   "metadata": {},
   "outputs": [],
   "source": []
  }
 ],
 "metadata": {
  "kernelspec": {
   "display_name": "Python 3 (ipykernel)",
   "language": "python",
   "name": "python3"
  },
  "language_info": {
   "codemirror_mode": {
    "name": "ipython",
    "version": 3
   },
   "file_extension": ".py",
   "mimetype": "text/x-python",
   "name": "python",
   "nbconvert_exporter": "python",
   "pygments_lexer": "ipython3",
   "version": "3.12.0"
  }
 },
 "nbformat": 4,
 "nbformat_minor": 5
}
